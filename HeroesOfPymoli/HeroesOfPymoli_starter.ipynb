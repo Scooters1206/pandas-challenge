{
 "cells": [
  {
   "cell_type": "markdown",
   "metadata": {},
   "source": [
    "### Note\n",
    "* Instructions have been included for each segment. You do not have to follow them exactly, but they are included to help you think through the steps."
   ]
  },
  {
   "cell_type": "code",
   "execution_count": 2,
   "metadata": {},
   "outputs": [
    {
     "data": {
      "text/html": [
       "<div>\n",
       "<style scoped>\n",
       "    .dataframe tbody tr th:only-of-type {\n",
       "        vertical-align: middle;\n",
       "    }\n",
       "\n",
       "    .dataframe tbody tr th {\n",
       "        vertical-align: top;\n",
       "    }\n",
       "\n",
       "    .dataframe thead th {\n",
       "        text-align: right;\n",
       "    }\n",
       "</style>\n",
       "<table border=\"1\" class=\"dataframe\">\n",
       "  <thead>\n",
       "    <tr style=\"text-align: right;\">\n",
       "      <th></th>\n",
       "      <th>Purchase ID</th>\n",
       "      <th>SN</th>\n",
       "      <th>Age</th>\n",
       "      <th>Gender</th>\n",
       "      <th>Item ID</th>\n",
       "      <th>Item Name</th>\n",
       "      <th>Price</th>\n",
       "    </tr>\n",
       "  </thead>\n",
       "  <tbody>\n",
       "    <tr>\n",
       "      <th>0</th>\n",
       "      <td>0</td>\n",
       "      <td>Lisim78</td>\n",
       "      <td>20</td>\n",
       "      <td>Male</td>\n",
       "      <td>108</td>\n",
       "      <td>Extraction, Quickblade Of Trembling Hands</td>\n",
       "      <td>3.53</td>\n",
       "    </tr>\n",
       "    <tr>\n",
       "      <th>1</th>\n",
       "      <td>1</td>\n",
       "      <td>Lisovynya38</td>\n",
       "      <td>40</td>\n",
       "      <td>Male</td>\n",
       "      <td>143</td>\n",
       "      <td>Frenzied Scimitar</td>\n",
       "      <td>1.56</td>\n",
       "    </tr>\n",
       "    <tr>\n",
       "      <th>2</th>\n",
       "      <td>2</td>\n",
       "      <td>Ithergue48</td>\n",
       "      <td>24</td>\n",
       "      <td>Male</td>\n",
       "      <td>92</td>\n",
       "      <td>Final Critic</td>\n",
       "      <td>4.88</td>\n",
       "    </tr>\n",
       "    <tr>\n",
       "      <th>3</th>\n",
       "      <td>3</td>\n",
       "      <td>Chamassasya86</td>\n",
       "      <td>24</td>\n",
       "      <td>Male</td>\n",
       "      <td>100</td>\n",
       "      <td>Blindscythe</td>\n",
       "      <td>3.27</td>\n",
       "    </tr>\n",
       "    <tr>\n",
       "      <th>4</th>\n",
       "      <td>4</td>\n",
       "      <td>Iskosia90</td>\n",
       "      <td>23</td>\n",
       "      <td>Male</td>\n",
       "      <td>131</td>\n",
       "      <td>Fury</td>\n",
       "      <td>1.44</td>\n",
       "    </tr>\n",
       "  </tbody>\n",
       "</table>\n",
       "</div>"
      ],
      "text/plain": [
       "   Purchase ID             SN  Age Gender  Item ID  \\\n",
       "0            0        Lisim78   20   Male      108   \n",
       "1            1    Lisovynya38   40   Male      143   \n",
       "2            2     Ithergue48   24   Male       92   \n",
       "3            3  Chamassasya86   24   Male      100   \n",
       "4            4      Iskosia90   23   Male      131   \n",
       "\n",
       "                                   Item Name  Price  \n",
       "0  Extraction, Quickblade Of Trembling Hands   3.53  \n",
       "1                          Frenzied Scimitar   1.56  \n",
       "2                               Final Critic   4.88  \n",
       "3                                Blindscythe   3.27  \n",
       "4                                       Fury   1.44  "
      ]
     },
     "execution_count": 2,
     "metadata": {},
     "output_type": "execute_result"
    }
   ],
   "source": [
    "# Dependencies and Setup\n",
    "import pandas as pd\n",
    "\n",
    "# File to Load (Remember to Change These)\n",
    "file_to_load = \"Resources/purchase_data.csv\"\n",
    "\n",
    "# Read Purchasing File and store into Pandas data frame\n",
    "purchase_data = pd.read_csv(file_to_load)\n",
    "\n",
    "purchase_data.head()"
   ]
  },
  {
   "cell_type": "markdown",
   "metadata": {},
   "source": [
    "## Player Count"
   ]
  },
  {
   "cell_type": "markdown",
   "metadata": {},
   "source": [
    "* Display the total number of players\n"
   ]
  },
  {
   "cell_type": "code",
   "execution_count": 3,
   "metadata": {},
   "outputs": [
    {
     "data": {
      "text/html": [
       "<div>\n",
       "<style scoped>\n",
       "    .dataframe tbody tr th:only-of-type {\n",
       "        vertical-align: middle;\n",
       "    }\n",
       "\n",
       "    .dataframe tbody tr th {\n",
       "        vertical-align: top;\n",
       "    }\n",
       "\n",
       "    .dataframe thead th {\n",
       "        text-align: right;\n",
       "    }\n",
       "</style>\n",
       "<table border=\"1\" class=\"dataframe\">\n",
       "  <thead>\n",
       "    <tr style=\"text-align: right;\">\n",
       "      <th></th>\n",
       "      <th>0</th>\n",
       "      <th>Total Players</th>\n",
       "    </tr>\n",
       "  </thead>\n",
       "  <tbody>\n",
       "    <tr>\n",
       "      <th>0</th>\n",
       "      <td>Total Players</td>\n",
       "      <td>576</td>\n",
       "    </tr>\n",
       "  </tbody>\n",
       "</table>\n",
       "</div>"
      ],
      "text/plain": [
       "               0  Total Players\n",
       "0  Total Players            576"
      ]
     },
     "execution_count": 3,
     "metadata": {},
     "output_type": "execute_result"
    }
   ],
   "source": [
    "totalplayers = purchase_data[\"SN\"].nunique()\n",
    "totalplay_df = pd.DataFrame([{\"Total Players\"}])\n",
    "totalplay_df[\"Total Players\"] = totalplayers\n",
    "totalplay_df"
   ]
  },
  {
   "cell_type": "markdown",
   "metadata": {},
   "source": [
    "## Purchasing Analysis (Total)"
   ]
  },
  {
   "cell_type": "markdown",
   "metadata": {},
   "source": [
    "* Run basic calculations to obtain number of unique items, average price, etc.\n",
    "\n",
    "\n",
    "* Create a summary data frame to hold the results\n",
    "\n",
    "\n",
    "* Optional: give the displayed data cleaner formatting\n",
    "\n",
    "\n",
    "* Display the summary data frame\n"
   ]
  },
  {
   "cell_type": "code",
   "execution_count": 4,
   "metadata": {
    "scrolled": true
   },
   "outputs": [
    {
     "data": {
      "text/html": [
       "<div>\n",
       "<style scoped>\n",
       "    .dataframe tbody tr th:only-of-type {\n",
       "        vertical-align: middle;\n",
       "    }\n",
       "\n",
       "    .dataframe tbody tr th {\n",
       "        vertical-align: top;\n",
       "    }\n",
       "\n",
       "    .dataframe thead th {\n",
       "        text-align: right;\n",
       "    }\n",
       "</style>\n",
       "<table border=\"1\" class=\"dataframe\">\n",
       "  <thead>\n",
       "    <tr style=\"text-align: right;\">\n",
       "      <th></th>\n",
       "      <th>Number of Unique Items</th>\n",
       "      <th>Average Price</th>\n",
       "      <th>Total Purchases</th>\n",
       "      <th>Total Revenue</th>\n",
       "    </tr>\n",
       "  </thead>\n",
       "  <tbody>\n",
       "    <tr>\n",
       "      <th>0</th>\n",
       "      <td>179</td>\n",
       "      <td>3.050987</td>\n",
       "      <td>780</td>\n",
       "      <td>2379.77</td>\n",
       "    </tr>\n",
       "  </tbody>\n",
       "</table>\n",
       "</div>"
      ],
      "text/plain": [
       "   Number of Unique Items  Average Price  Total Purchases  Total Revenue\n",
       "0                     179       3.050987              780        2379.77"
      ]
     },
     "execution_count": 4,
     "metadata": {},
     "output_type": "execute_result"
    }
   ],
   "source": [
    "numberofuniques = purchase_data[\"Item Name\"].nunique()\n",
    "averageprice = purchase_data[\"Price\"].mean()\n",
    "totalpurchases = len(purchase_data)\n",
    "totalrevenue = purchase_data[\"Price\"].sum()\n",
    "purchana_df = pd.DataFrame([{}])\n",
    "purchana_df[\"Number of Unique Items\"] = numberofuniques\n",
    "purchana_df[\"Average Price\"] = averageprice \n",
    "purchana_df[\"Total Purchases\"] = totalpurchases\n",
    "purchana_df[\"Total Revenue\"] = totalrevenue\n",
    "purchana_df"
   ]
  },
  {
   "cell_type": "markdown",
   "metadata": {},
   "source": [
    "## Gender Demographics"
   ]
  },
  {
   "cell_type": "markdown",
   "metadata": {},
   "source": [
    "* Percentage and Count of Male Players\n",
    "\n",
    "\n",
    "* Percentage and Count of Female Players\n",
    "\n",
    "\n",
    "* Percentage and Count of Other / Non-Disclosed\n",
    "\n",
    "\n"
   ]
  },
  {
   "cell_type": "code",
   "execution_count": 5,
   "metadata": {},
   "outputs": [
    {
     "data": {
      "text/plain": [
       "Male                     484\n",
       "Female                    81\n",
       "Other / Non-Disclosed     11\n",
       "Name: Gender, dtype: int64"
      ]
     },
     "execution_count": 5,
     "metadata": {},
     "output_type": "execute_result"
    }
   ],
   "source": [
    "gendercountpt1 = purchase_data.drop_duplicates(subset=['SN'])\n",
    "gendercount = gendercountpt1[\"Gender\"].value_counts()\n",
    "gendercount.head()"
   ]
  },
  {
   "cell_type": "code",
   "execution_count": 6,
   "metadata": {},
   "outputs": [
    {
     "data": {
      "text/html": [
       "<style  type=\"text/css\" >\n",
       "</style><table id=\"T_23bac665_0997_11eb_b14b_a87eeae81b28\" ><thead>    <tr>        <th class=\"blank level0\" ></th>        <th class=\"col_heading level0 col0\" >Gender</th>        <th class=\"col_heading level0 col1\" >Player Count</th>        <th class=\"col_heading level0 col2\" >Percentage of Player Count</th>    </tr></thead><tbody>\n",
       "                <tr>\n",
       "                        <th id=\"T_23bac665_0997_11eb_b14b_a87eeae81b28level0_row0\" class=\"row_heading level0 row0\" >0</th>\n",
       "                        <td id=\"T_23bac665_0997_11eb_b14b_a87eeae81b28row0_col0\" class=\"data row0 col0\" >Male</td>\n",
       "                        <td id=\"T_23bac665_0997_11eb_b14b_a87eeae81b28row0_col1\" class=\"data row0 col1\" >484</td>\n",
       "                        <td id=\"T_23bac665_0997_11eb_b14b_a87eeae81b28row0_col2\" class=\"data row0 col2\" >84.03%</td>\n",
       "            </tr>\n",
       "            <tr>\n",
       "                        <th id=\"T_23bac665_0997_11eb_b14b_a87eeae81b28level0_row1\" class=\"row_heading level0 row1\" >1</th>\n",
       "                        <td id=\"T_23bac665_0997_11eb_b14b_a87eeae81b28row1_col0\" class=\"data row1 col0\" >Female</td>\n",
       "                        <td id=\"T_23bac665_0997_11eb_b14b_a87eeae81b28row1_col1\" class=\"data row1 col1\" >81</td>\n",
       "                        <td id=\"T_23bac665_0997_11eb_b14b_a87eeae81b28row1_col2\" class=\"data row1 col2\" >14.06%</td>\n",
       "            </tr>\n",
       "            <tr>\n",
       "                        <th id=\"T_23bac665_0997_11eb_b14b_a87eeae81b28level0_row2\" class=\"row_heading level0 row2\" >2</th>\n",
       "                        <td id=\"T_23bac665_0997_11eb_b14b_a87eeae81b28row2_col0\" class=\"data row2 col0\" >Other / Non-Disclosed</td>\n",
       "                        <td id=\"T_23bac665_0997_11eb_b14b_a87eeae81b28row2_col1\" class=\"data row2 col1\" >11</td>\n",
       "                        <td id=\"T_23bac665_0997_11eb_b14b_a87eeae81b28row2_col2\" class=\"data row2 col2\" >1.91%</td>\n",
       "            </tr>\n",
       "    </tbody></table>"
      ],
      "text/plain": [
       "<pandas.io.formats.style.Styler at 0x2d706a894f0>"
      ]
     },
     "execution_count": 6,
     "metadata": {},
     "output_type": "execute_result"
    }
   ],
   "source": [
    "totalmale = len(gendercountpt1[gendercountpt1[\"Gender\"] == \"Male\"])\n",
    "totalfemale = len(gendercountpt1[gendercountpt1[\"Gender\"] == \"Female\"])\n",
    "totalother = len(gendercountpt1[gendercountpt1[\"Gender\"] == \"Other / Non-Disclosed\"])\n",
    "permale = (totalmale / totalplayers)\n",
    "perfemale = (totalfemale / totalplayers)\n",
    "perother = (totalother / totalplayers)\n",
    "gendem_df = pd.DataFrame({\n",
    "    \"Gender\": [\"Male\", \"Female\", \"Other / Non-Disclosed\"],\n",
    "    \"Player Count\": [totalmale, totalfemale, totalother],\n",
    "    \"Percentage of Player Count\": [permale, perfemale, perother]\n",
    "})\n",
    "formattedgendem = gendem_df.style.format({\n",
    "    \"Percentage of Player Count\": '{:,.2%}'.format,\n",
    "})\n",
    "formattedgendem"
   ]
  },
  {
   "cell_type": "markdown",
   "metadata": {},
   "source": [
    "\n",
    "## Purchasing Analysis (Gender)"
   ]
  },
  {
   "cell_type": "markdown",
   "metadata": {},
   "source": [
    "* Run basic calculations to obtain purchase count, avg. purchase price, avg. purchase total per person etc. by gender\n",
    "\n",
    "\n",
    "\n",
    "\n",
    "* Create a summary data frame to hold the results\n",
    "\n",
    "\n",
    "* Optional: give the displayed data cleaner formatting\n",
    "\n",
    "\n",
    "* Display the summary data frame"
   ]
  },
  {
   "cell_type": "code",
   "execution_count": 7,
   "metadata": {},
   "outputs": [
    {
     "data": {
      "text/html": [
       "<style  type=\"text/css\" >\n",
       "</style><table id=\"T_25311717_0997_11eb_825f_a87eeae81b28\" ><thead>    <tr>        <th class=\"blank level0\" ></th>        <th class=\"col_heading level0 col0\" >Purchase Count</th>        <th class=\"col_heading level0 col1\" >Average Purchase Price</th>        <th class=\"col_heading level0 col2\" >Total Purchase Value</th>        <th class=\"col_heading level0 col3\" >Avg Total Purchase per Person</th>    </tr></thead><tbody>\n",
       "                <tr>\n",
       "                        <th id=\"T_25311717_0997_11eb_825f_a87eeae81b28level0_row0\" class=\"row_heading level0 row0\" >Female</th>\n",
       "                        <td id=\"T_25311717_0997_11eb_825f_a87eeae81b28row0_col0\" class=\"data row0 col0\" >113</td>\n",
       "                        <td id=\"T_25311717_0997_11eb_825f_a87eeae81b28row0_col1\" class=\"data row0 col1\" >$3.20</td>\n",
       "                        <td id=\"T_25311717_0997_11eb_825f_a87eeae81b28row0_col2\" class=\"data row0 col2\" >$361.94</td>\n",
       "                        <td id=\"T_25311717_0997_11eb_825f_a87eeae81b28row0_col3\" class=\"data row0 col3\" >$4.47</td>\n",
       "            </tr>\n",
       "            <tr>\n",
       "                        <th id=\"T_25311717_0997_11eb_825f_a87eeae81b28level0_row1\" class=\"row_heading level0 row1\" >Male</th>\n",
       "                        <td id=\"T_25311717_0997_11eb_825f_a87eeae81b28row1_col0\" class=\"data row1 col0\" >652</td>\n",
       "                        <td id=\"T_25311717_0997_11eb_825f_a87eeae81b28row1_col1\" class=\"data row1 col1\" >$3.02</td>\n",
       "                        <td id=\"T_25311717_0997_11eb_825f_a87eeae81b28row1_col2\" class=\"data row1 col2\" >$1,967.64</td>\n",
       "                        <td id=\"T_25311717_0997_11eb_825f_a87eeae81b28row1_col3\" class=\"data row1 col3\" >$4.07</td>\n",
       "            </tr>\n",
       "            <tr>\n",
       "                        <th id=\"T_25311717_0997_11eb_825f_a87eeae81b28level0_row2\" class=\"row_heading level0 row2\" >Other / Non-Disclosed</th>\n",
       "                        <td id=\"T_25311717_0997_11eb_825f_a87eeae81b28row2_col0\" class=\"data row2 col0\" >15</td>\n",
       "                        <td id=\"T_25311717_0997_11eb_825f_a87eeae81b28row2_col1\" class=\"data row2 col1\" >$3.35</td>\n",
       "                        <td id=\"T_25311717_0997_11eb_825f_a87eeae81b28row2_col2\" class=\"data row2 col2\" >$50.19</td>\n",
       "                        <td id=\"T_25311717_0997_11eb_825f_a87eeae81b28row2_col3\" class=\"data row2 col3\" >$4.56</td>\n",
       "            </tr>\n",
       "    </tbody></table>"
      ],
      "text/plain": [
       "<pandas.io.formats.style.Styler at 0x2d7069f6ca0>"
      ]
     },
     "execution_count": 7,
     "metadata": {},
     "output_type": "execute_result"
    }
   ],
   "source": [
    "groupedbygen = purchase_data.groupby([\"Gender\"])\n",
    "totalpurch = purchase_data[\"Gender\"].value_counts()\n",
    "totalpurchval = groupedbygen[\"Price\"].sum()\n",
    "avgpurch = groupedbygen[\"Price\"].mean()\n",
    "avgperperson = (totalpurchval / gendercount)\n",
    "genpurana_df = pd.DataFrame({\n",
    "    \"Purchase Count\": totalpurch,\n",
    "    \"Average Purchase Price\": avgpurch,\n",
    "    \"Total Purchase Value\": totalpurchval,\n",
    "    \"Avg Total Purchase per Person\": avgperperson\n",
    "})\n",
    "formattedgenpurana = genpurana_df.style.format({\n",
    "    \"Average Purchase Price\": '${:,.2f}'.format,\n",
    "    \"Total Purchase Value\": '${:,.2f}'.format,\n",
    "    \"Avg Total Purchase per Person\": '${:,.2f}'.format,\n",
    "})\n",
    "formattedgenpurana"
   ]
  },
  {
   "cell_type": "code",
   "execution_count": null,
   "metadata": {},
   "outputs": [],
   "source": []
  },
  {
   "cell_type": "markdown",
   "metadata": {},
   "source": [
    "## Age Demographics"
   ]
  },
  {
   "cell_type": "markdown",
   "metadata": {},
   "source": [
    "* Establish bins for ages\n",
    "\n",
    "\n",
    "* Categorize the existing players using the age bins. Hint: use pd.cut()\n",
    "\n",
    "\n",
    "* Calculate the numbers and percentages by age group\n",
    "\n",
    "\n",
    "* Create a summary data frame to hold the results\n",
    "\n",
    "\n",
    "* Optional: round the percentage column to two decimal points\n",
    "\n",
    "\n",
    "* Display Age Demographics Table\n"
   ]
  },
  {
   "cell_type": "code",
   "execution_count": 8,
   "metadata": {},
   "outputs": [
    {
     "data": {
      "text/html": [
       "<style  type=\"text/css\" >\n",
       "</style><table id=\"T_26b5e89b_0997_11eb_86c7_a87eeae81b28\" ><thead>    <tr>        <th class=\"blank level0\" ></th>        <th class=\"col_heading level0 col0\" >Age Range</th>        <th class=\"col_heading level0 col1\" >Total Count</th>        <th class=\"col_heading level0 col2\" >Percentage of Players</th>    </tr></thead><tbody>\n",
       "                <tr>\n",
       "                        <th id=\"T_26b5e89b_0997_11eb_86c7_a87eeae81b28level0_row0\" class=\"row_heading level0 row0\" >0</th>\n",
       "                        <td id=\"T_26b5e89b_0997_11eb_86c7_a87eeae81b28row0_col0\" class=\"data row0 col0\" ><10</td>\n",
       "                        <td id=\"T_26b5e89b_0997_11eb_86c7_a87eeae81b28row0_col1\" class=\"data row0 col1\" >17</td>\n",
       "                        <td id=\"T_26b5e89b_0997_11eb_86c7_a87eeae81b28row0_col2\" class=\"data row0 col2\" >2.95%</td>\n",
       "            </tr>\n",
       "            <tr>\n",
       "                        <th id=\"T_26b5e89b_0997_11eb_86c7_a87eeae81b28level0_row1\" class=\"row_heading level0 row1\" >1</th>\n",
       "                        <td id=\"T_26b5e89b_0997_11eb_86c7_a87eeae81b28row1_col0\" class=\"data row1 col0\" >10-14</td>\n",
       "                        <td id=\"T_26b5e89b_0997_11eb_86c7_a87eeae81b28row1_col1\" class=\"data row1 col1\" >22</td>\n",
       "                        <td id=\"T_26b5e89b_0997_11eb_86c7_a87eeae81b28row1_col2\" class=\"data row1 col2\" >3.82%</td>\n",
       "            </tr>\n",
       "            <tr>\n",
       "                        <th id=\"T_26b5e89b_0997_11eb_86c7_a87eeae81b28level0_row2\" class=\"row_heading level0 row2\" >2</th>\n",
       "                        <td id=\"T_26b5e89b_0997_11eb_86c7_a87eeae81b28row2_col0\" class=\"data row2 col0\" >15-19</td>\n",
       "                        <td id=\"T_26b5e89b_0997_11eb_86c7_a87eeae81b28row2_col1\" class=\"data row2 col1\" >107</td>\n",
       "                        <td id=\"T_26b5e89b_0997_11eb_86c7_a87eeae81b28row2_col2\" class=\"data row2 col2\" >18.58%</td>\n",
       "            </tr>\n",
       "            <tr>\n",
       "                        <th id=\"T_26b5e89b_0997_11eb_86c7_a87eeae81b28level0_row3\" class=\"row_heading level0 row3\" >3</th>\n",
       "                        <td id=\"T_26b5e89b_0997_11eb_86c7_a87eeae81b28row3_col0\" class=\"data row3 col0\" >20-24</td>\n",
       "                        <td id=\"T_26b5e89b_0997_11eb_86c7_a87eeae81b28row3_col1\" class=\"data row3 col1\" >258</td>\n",
       "                        <td id=\"T_26b5e89b_0997_11eb_86c7_a87eeae81b28row3_col2\" class=\"data row3 col2\" >44.79%</td>\n",
       "            </tr>\n",
       "            <tr>\n",
       "                        <th id=\"T_26b5e89b_0997_11eb_86c7_a87eeae81b28level0_row4\" class=\"row_heading level0 row4\" >4</th>\n",
       "                        <td id=\"T_26b5e89b_0997_11eb_86c7_a87eeae81b28row4_col0\" class=\"data row4 col0\" >25-29</td>\n",
       "                        <td id=\"T_26b5e89b_0997_11eb_86c7_a87eeae81b28row4_col1\" class=\"data row4 col1\" >77</td>\n",
       "                        <td id=\"T_26b5e89b_0997_11eb_86c7_a87eeae81b28row4_col2\" class=\"data row4 col2\" >13.37%</td>\n",
       "            </tr>\n",
       "            <tr>\n",
       "                        <th id=\"T_26b5e89b_0997_11eb_86c7_a87eeae81b28level0_row5\" class=\"row_heading level0 row5\" >5</th>\n",
       "                        <td id=\"T_26b5e89b_0997_11eb_86c7_a87eeae81b28row5_col0\" class=\"data row5 col0\" >30-34</td>\n",
       "                        <td id=\"T_26b5e89b_0997_11eb_86c7_a87eeae81b28row5_col1\" class=\"data row5 col1\" >52</td>\n",
       "                        <td id=\"T_26b5e89b_0997_11eb_86c7_a87eeae81b28row5_col2\" class=\"data row5 col2\" >9.03%</td>\n",
       "            </tr>\n",
       "            <tr>\n",
       "                        <th id=\"T_26b5e89b_0997_11eb_86c7_a87eeae81b28level0_row6\" class=\"row_heading level0 row6\" >6</th>\n",
       "                        <td id=\"T_26b5e89b_0997_11eb_86c7_a87eeae81b28row6_col0\" class=\"data row6 col0\" >35-39</td>\n",
       "                        <td id=\"T_26b5e89b_0997_11eb_86c7_a87eeae81b28row6_col1\" class=\"data row6 col1\" >31</td>\n",
       "                        <td id=\"T_26b5e89b_0997_11eb_86c7_a87eeae81b28row6_col2\" class=\"data row6 col2\" >5.38%</td>\n",
       "            </tr>\n",
       "            <tr>\n",
       "                        <th id=\"T_26b5e89b_0997_11eb_86c7_a87eeae81b28level0_row7\" class=\"row_heading level0 row7\" >7</th>\n",
       "                        <td id=\"T_26b5e89b_0997_11eb_86c7_a87eeae81b28row7_col0\" class=\"data row7 col0\" >40+</td>\n",
       "                        <td id=\"T_26b5e89b_0997_11eb_86c7_a87eeae81b28row7_col1\" class=\"data row7 col1\" >12</td>\n",
       "                        <td id=\"T_26b5e89b_0997_11eb_86c7_a87eeae81b28row7_col2\" class=\"data row7 col2\" >2.08%</td>\n",
       "            </tr>\n",
       "    </tbody></table>"
      ],
      "text/plain": [
       "<pandas.io.formats.style.Styler at 0x2d706a890a0>"
      ]
     },
     "execution_count": 8,
     "metadata": {},
     "output_type": "execute_result"
    }
   ],
   "source": [
    "bins = [0, 9, 14, 19, 24, 29, 34, 39, 200]\n",
    "group_names = [\"<10\", \"10-14\", \"15-19\", \"20-24\", \"25-29\", \"30-34\", \"35-39\", \"40+\"]\n",
    "purchase_data[\"Age Range\"] = pd.cut(purchase_data[\"Age\"], bins, labels=group_names, include_lowest=True)\n",
    "dedupedpurchdata = purchase_data.drop_duplicates(subset='SN')\n",
    "groupedbybin = dedupedpurchdata.groupby(\"Age Range\").size().reset_index(name='Total Count')\n",
    "groupedbybin[\"Percentage of Players\"] = groupedbybin[\"Total Count\"] / totalplayers\n",
    "groupedbybin = groupedbybin.style.format({\n",
    "    \"Percentage of Players\": '{:,.2%}'.format,\n",
    "})\n",
    "groupedbybin"
   ]
  },
  {
   "cell_type": "code",
   "execution_count": null,
   "metadata": {},
   "outputs": [],
   "source": []
  },
  {
   "cell_type": "markdown",
   "metadata": {},
   "source": [
    "## Purchasing Analysis (Age)"
   ]
  },
  {
   "cell_type": "markdown",
   "metadata": {},
   "source": [
    "* Bin the purchase_data data frame by age\n",
    "\n",
    "\n",
    "* Run basic calculations to obtain purchase count, avg. purchase price, avg. purchase total per person etc. in the table below\n",
    "\n",
    "\n",
    "* Create a summary data frame to hold the results\n",
    "\n",
    "\n",
    "* Optional: give the displayed data cleaner formatting\n",
    "\n",
    "\n",
    "* Display the summary data frame"
   ]
  },
  {
   "cell_type": "code",
   "execution_count": 9,
   "metadata": {},
   "outputs": [
    {
     "data": {
      "text/html": [
       "<style  type=\"text/css\" >\n",
       "</style><table id=\"T_288ed9c8_0997_11eb_94a4_a87eeae81b28\" ><thead>    <tr>        <th class=\"blank level0\" ></th>        <th class=\"col_heading level0 col0\" >Purchase Count</th>        <th class=\"col_heading level0 col1\" >Average Purchase Price</th>        <th class=\"col_heading level0 col2\" >Total Purchase Value</th>        <th class=\"col_heading level0 col3\" >Avg Total Purchase per Person</th>    </tr>    <tr>        <th class=\"index_name level0\" >Age Range</th>        <th class=\"blank\" ></th>        <th class=\"blank\" ></th>        <th class=\"blank\" ></th>        <th class=\"blank\" ></th>    </tr></thead><tbody>\n",
       "                <tr>\n",
       "                        <th id=\"T_288ed9c8_0997_11eb_94a4_a87eeae81b28level0_row0\" class=\"row_heading level0 row0\" ><10</th>\n",
       "                        <td id=\"T_288ed9c8_0997_11eb_94a4_a87eeae81b28row0_col0\" class=\"data row0 col0\" >23</td>\n",
       "                        <td id=\"T_288ed9c8_0997_11eb_94a4_a87eeae81b28row0_col1\" class=\"data row0 col1\" >$3.35</td>\n",
       "                        <td id=\"T_288ed9c8_0997_11eb_94a4_a87eeae81b28row0_col2\" class=\"data row0 col2\" >$77.13</td>\n",
       "                        <td id=\"T_288ed9c8_0997_11eb_94a4_a87eeae81b28row0_col3\" class=\"data row0 col3\" >$4.54</td>\n",
       "            </tr>\n",
       "            <tr>\n",
       "                        <th id=\"T_288ed9c8_0997_11eb_94a4_a87eeae81b28level0_row1\" class=\"row_heading level0 row1\" >10-14</th>\n",
       "                        <td id=\"T_288ed9c8_0997_11eb_94a4_a87eeae81b28row1_col0\" class=\"data row1 col0\" >28</td>\n",
       "                        <td id=\"T_288ed9c8_0997_11eb_94a4_a87eeae81b28row1_col1\" class=\"data row1 col1\" >$2.96</td>\n",
       "                        <td id=\"T_288ed9c8_0997_11eb_94a4_a87eeae81b28row1_col2\" class=\"data row1 col2\" >$82.78</td>\n",
       "                        <td id=\"T_288ed9c8_0997_11eb_94a4_a87eeae81b28row1_col3\" class=\"data row1 col3\" >$3.76</td>\n",
       "            </tr>\n",
       "            <tr>\n",
       "                        <th id=\"T_288ed9c8_0997_11eb_94a4_a87eeae81b28level0_row2\" class=\"row_heading level0 row2\" >15-19</th>\n",
       "                        <td id=\"T_288ed9c8_0997_11eb_94a4_a87eeae81b28row2_col0\" class=\"data row2 col0\" >136</td>\n",
       "                        <td id=\"T_288ed9c8_0997_11eb_94a4_a87eeae81b28row2_col1\" class=\"data row2 col1\" >$3.04</td>\n",
       "                        <td id=\"T_288ed9c8_0997_11eb_94a4_a87eeae81b28row2_col2\" class=\"data row2 col2\" >$412.89</td>\n",
       "                        <td id=\"T_288ed9c8_0997_11eb_94a4_a87eeae81b28row2_col3\" class=\"data row2 col3\" >$3.86</td>\n",
       "            </tr>\n",
       "            <tr>\n",
       "                        <th id=\"T_288ed9c8_0997_11eb_94a4_a87eeae81b28level0_row3\" class=\"row_heading level0 row3\" >20-24</th>\n",
       "                        <td id=\"T_288ed9c8_0997_11eb_94a4_a87eeae81b28row3_col0\" class=\"data row3 col0\" >365</td>\n",
       "                        <td id=\"T_288ed9c8_0997_11eb_94a4_a87eeae81b28row3_col1\" class=\"data row3 col1\" >$3.05</td>\n",
       "                        <td id=\"T_288ed9c8_0997_11eb_94a4_a87eeae81b28row3_col2\" class=\"data row3 col2\" >$1,114.06</td>\n",
       "                        <td id=\"T_288ed9c8_0997_11eb_94a4_a87eeae81b28row3_col3\" class=\"data row3 col3\" >$4.32</td>\n",
       "            </tr>\n",
       "            <tr>\n",
       "                        <th id=\"T_288ed9c8_0997_11eb_94a4_a87eeae81b28level0_row4\" class=\"row_heading level0 row4\" >25-29</th>\n",
       "                        <td id=\"T_288ed9c8_0997_11eb_94a4_a87eeae81b28row4_col0\" class=\"data row4 col0\" >101</td>\n",
       "                        <td id=\"T_288ed9c8_0997_11eb_94a4_a87eeae81b28row4_col1\" class=\"data row4 col1\" >$2.90</td>\n",
       "                        <td id=\"T_288ed9c8_0997_11eb_94a4_a87eeae81b28row4_col2\" class=\"data row4 col2\" >$293.00</td>\n",
       "                        <td id=\"T_288ed9c8_0997_11eb_94a4_a87eeae81b28row4_col3\" class=\"data row4 col3\" >$3.81</td>\n",
       "            </tr>\n",
       "            <tr>\n",
       "                        <th id=\"T_288ed9c8_0997_11eb_94a4_a87eeae81b28level0_row5\" class=\"row_heading level0 row5\" >30-34</th>\n",
       "                        <td id=\"T_288ed9c8_0997_11eb_94a4_a87eeae81b28row5_col0\" class=\"data row5 col0\" >73</td>\n",
       "                        <td id=\"T_288ed9c8_0997_11eb_94a4_a87eeae81b28row5_col1\" class=\"data row5 col1\" >$2.93</td>\n",
       "                        <td id=\"T_288ed9c8_0997_11eb_94a4_a87eeae81b28row5_col2\" class=\"data row5 col2\" >$214.00</td>\n",
       "                        <td id=\"T_288ed9c8_0997_11eb_94a4_a87eeae81b28row5_col3\" class=\"data row5 col3\" >$4.12</td>\n",
       "            </tr>\n",
       "            <tr>\n",
       "                        <th id=\"T_288ed9c8_0997_11eb_94a4_a87eeae81b28level0_row6\" class=\"row_heading level0 row6\" >35-39</th>\n",
       "                        <td id=\"T_288ed9c8_0997_11eb_94a4_a87eeae81b28row6_col0\" class=\"data row6 col0\" >41</td>\n",
       "                        <td id=\"T_288ed9c8_0997_11eb_94a4_a87eeae81b28row6_col1\" class=\"data row6 col1\" >$3.60</td>\n",
       "                        <td id=\"T_288ed9c8_0997_11eb_94a4_a87eeae81b28row6_col2\" class=\"data row6 col2\" >$147.67</td>\n",
       "                        <td id=\"T_288ed9c8_0997_11eb_94a4_a87eeae81b28row6_col3\" class=\"data row6 col3\" >$4.76</td>\n",
       "            </tr>\n",
       "            <tr>\n",
       "                        <th id=\"T_288ed9c8_0997_11eb_94a4_a87eeae81b28level0_row7\" class=\"row_heading level0 row7\" >40+</th>\n",
       "                        <td id=\"T_288ed9c8_0997_11eb_94a4_a87eeae81b28row7_col0\" class=\"data row7 col0\" >13</td>\n",
       "                        <td id=\"T_288ed9c8_0997_11eb_94a4_a87eeae81b28row7_col1\" class=\"data row7 col1\" >$2.94</td>\n",
       "                        <td id=\"T_288ed9c8_0997_11eb_94a4_a87eeae81b28row7_col2\" class=\"data row7 col2\" >$38.24</td>\n",
       "                        <td id=\"T_288ed9c8_0997_11eb_94a4_a87eeae81b28row7_col3\" class=\"data row7 col3\" >$3.19</td>\n",
       "            </tr>\n",
       "    </tbody></table>"
      ],
      "text/plain": [
       "<pandas.io.formats.style.Styler at 0x2d704928b50>"
      ]
     },
     "execution_count": 9,
     "metadata": {},
     "output_type": "execute_result"
    }
   ],
   "source": [
    "bins = [0, 9, 14, 19, 24, 29, 34, 39, 200]\n",
    "group_names = [\"<10\", \"10-14\", \"15-19\", \"20-24\", \"25-29\", \"30-34\", \"35-39\", \"40+\"]\n",
    "purchase_data[\"Age Range\"] = pd.cut(purchase_data[\"Age\"], bins, labels=group_names, include_lowest=True)\n",
    "dedupedpurchdata2 = purchase_data.drop_duplicates(subset='SN')\n",
    "groupedbyage2 = purchase_data.groupby(\"Age Range\")\n",
    "groupedbyage3 = pd.DataFrame(groupedbyage2[\"Price\"].sum())\n",
    "groupedbyage3[\"Total Count\"] = dedupedpurchdata2.groupby(\"Age Range\")[\"SN\"].count()\n",
    "groupedbyage3[\"Purchase Count\"] = groupedbyage2[\"Purchase ID\"].count()\n",
    "groupedbyage3[\"Average Purchase Price\"] = groupedbyage2[\"Price\"].mean()\n",
    "groupedbyage3[\"Avg Total Purchase per Person\"] = groupedbyage3[\"Price\"] / groupedbyage3[\"Total Count\"]\n",
    "groupedbyage3 = groupedbyage3[[\"Purchase Count\", \"Average Purchase Price\", \"Price\", \"Avg Total Purchase per Person\"]]\n",
    "groupedbyage3 = groupedbyage3.rename(columns={\"Price\": \"Total Purchase Value\"})\n",
    "groupedbyage3 = groupedbyage3.style.format({\n",
    "    \"Average Purchase Price\": '${:,.2f}'.format,\n",
    "    \"Total Purchase Value\": '${:,.2f}'.format,\n",
    "    \"Avg Total Purchase per Person\": '${:,.2f}'.format,\n",
    "})\n",
    "groupedbyage3"
   ]
  },
  {
   "cell_type": "markdown",
   "metadata": {},
   "source": [
    "## Top Spenders"
   ]
  },
  {
   "cell_type": "markdown",
   "metadata": {},
   "source": [
    "* Run basic calculations to obtain the results in the table below\n",
    "\n",
    "\n",
    "* Create a summary data frame to hold the results\n",
    "\n",
    "\n",
    "* Sort the total purchase value column in descending order\n",
    "\n",
    "\n",
    "* Optional: give the displayed data cleaner formatting\n",
    "\n",
    "\n",
    "* Display a preview of the summary data frame\n",
    "\n"
   ]
  },
  {
   "cell_type": "code",
   "execution_count": 46,
   "metadata": {},
   "outputs": [
    {
     "data": {
      "text/html": [
       "<style  type=\"text/css\" >\n",
       "</style><table id=\"T_47dfa25a_099a_11eb_93cd_a87eeae81b28\" ><thead>    <tr>        <th class=\"blank level0\" ></th>        <th class=\"col_heading level0 col0\" >Purchase Count</th>        <th class=\"col_heading level0 col1\" >Average Purchase Price</th>        <th class=\"col_heading level0 col2\" >Total Purchase Value</th>    </tr>    <tr>        <th class=\"index_name level0\" >SN</th>        <th class=\"blank\" ></th>        <th class=\"blank\" ></th>        <th class=\"blank\" ></th>    </tr></thead><tbody>\n",
       "                <tr>\n",
       "                        <th id=\"T_47dfa25a_099a_11eb_93cd_a87eeae81b28level0_row0\" class=\"row_heading level0 row0\" >Lisosia93</th>\n",
       "                        <td id=\"T_47dfa25a_099a_11eb_93cd_a87eeae81b28row0_col0\" class=\"data row0 col0\" >5</td>\n",
       "                        <td id=\"T_47dfa25a_099a_11eb_93cd_a87eeae81b28row0_col1\" class=\"data row0 col1\" >$3.79</td>\n",
       "                        <td id=\"T_47dfa25a_099a_11eb_93cd_a87eeae81b28row0_col2\" class=\"data row0 col2\" >$18.96</td>\n",
       "            </tr>\n",
       "            <tr>\n",
       "                        <th id=\"T_47dfa25a_099a_11eb_93cd_a87eeae81b28level0_row1\" class=\"row_heading level0 row1\" >Idastidru52</th>\n",
       "                        <td id=\"T_47dfa25a_099a_11eb_93cd_a87eeae81b28row1_col0\" class=\"data row1 col0\" >4</td>\n",
       "                        <td id=\"T_47dfa25a_099a_11eb_93cd_a87eeae81b28row1_col1\" class=\"data row1 col1\" >$3.86</td>\n",
       "                        <td id=\"T_47dfa25a_099a_11eb_93cd_a87eeae81b28row1_col2\" class=\"data row1 col2\" >$15.45</td>\n",
       "            </tr>\n",
       "            <tr>\n",
       "                        <th id=\"T_47dfa25a_099a_11eb_93cd_a87eeae81b28level0_row2\" class=\"row_heading level0 row2\" >Chamjask73</th>\n",
       "                        <td id=\"T_47dfa25a_099a_11eb_93cd_a87eeae81b28row2_col0\" class=\"data row2 col0\" >3</td>\n",
       "                        <td id=\"T_47dfa25a_099a_11eb_93cd_a87eeae81b28row2_col1\" class=\"data row2 col1\" >$4.61</td>\n",
       "                        <td id=\"T_47dfa25a_099a_11eb_93cd_a87eeae81b28row2_col2\" class=\"data row2 col2\" >$13.83</td>\n",
       "            </tr>\n",
       "            <tr>\n",
       "                        <th id=\"T_47dfa25a_099a_11eb_93cd_a87eeae81b28level0_row3\" class=\"row_heading level0 row3\" >Iral74</th>\n",
       "                        <td id=\"T_47dfa25a_099a_11eb_93cd_a87eeae81b28row3_col0\" class=\"data row3 col0\" >4</td>\n",
       "                        <td id=\"T_47dfa25a_099a_11eb_93cd_a87eeae81b28row3_col1\" class=\"data row3 col1\" >$3.40</td>\n",
       "                        <td id=\"T_47dfa25a_099a_11eb_93cd_a87eeae81b28row3_col2\" class=\"data row3 col2\" >$13.62</td>\n",
       "            </tr>\n",
       "            <tr>\n",
       "                        <th id=\"T_47dfa25a_099a_11eb_93cd_a87eeae81b28level0_row4\" class=\"row_heading level0 row4\" >Iskadarya95</th>\n",
       "                        <td id=\"T_47dfa25a_099a_11eb_93cd_a87eeae81b28row4_col0\" class=\"data row4 col0\" >3</td>\n",
       "                        <td id=\"T_47dfa25a_099a_11eb_93cd_a87eeae81b28row4_col1\" class=\"data row4 col1\" >$4.37</td>\n",
       "                        <td id=\"T_47dfa25a_099a_11eb_93cd_a87eeae81b28row4_col2\" class=\"data row4 col2\" >$13.10</td>\n",
       "            </tr>\n",
       "    </tbody></table>"
      ],
      "text/plain": [
       "<pandas.io.formats.style.Styler at 0x2d70782afa0>"
      ]
     },
     "execution_count": 46,
     "metadata": {},
     "output_type": "execute_result"
    }
   ],
   "source": [
    "condensedpurchdat = purchase_data[[\"SN\",\"Price\"]]\n",
    "groupedbysn = condensedpurchdat.groupby([\"SN\"])\n",
    "purchasecounts = purchase_data[\"SN\"].value_counts()\n",
    "totalpurchasevalue = groupedbysn.sum()\n",
    "totalpurchasevaluesorted = totalpurchasevalue.sort_values([\"Price\"], ascending=False).head(5)\n",
    "topspenders_df = pd.DataFrame(totalpurchasevaluesorted)\n",
    "topspenders_df[\"Purchase Count\"] = purchasecounts\n",
    "topspenders_df[\"Average Purchase Price\"] = topspenders_df[\"Price\"] / purchasecounts\n",
    "topspenders_df = topspenders_df.rename(columns={\"Price\": \"Total Purchase Value\"})\n",
    "topspenders_df = topspenders_df[[\"Purchase Count\", \"Average Purchase Price\", \"Total Purchase Value\"]]\n",
    "topspenders_df = topspenders_df.style.format({\n",
    "    \"Average Purchase Price\": '${:,.2f}'.format,\n",
    "    \"Total Purchase Value\": '${:,.2f}'.format\n",
    "})\n",
    "topspenders_df"
   ]
  },
  {
   "cell_type": "markdown",
   "metadata": {},
   "source": [
    "## Most Popular Items"
   ]
  },
  {
   "cell_type": "markdown",
   "metadata": {},
   "source": [
    "* Retrieve the Item ID, Item Name, and Item Price columns\n",
    "\n",
    "\n",
    "* Group by Item ID and Item Name. Perform calculations to obtain purchase count, average item price, and total purchase value\n",
    "\n",
    "\n",
    "* Create a summary data frame to hold the results\n",
    "\n",
    "\n",
    "* Sort the purchase count column in descending order\n",
    "\n",
    "\n",
    "* Optional: give the displayed data cleaner formatting\n",
    "\n",
    "\n",
    "* Display a preview of the summary data frame\n",
    "\n"
   ]
  },
  {
   "cell_type": "code",
   "execution_count": 94,
   "metadata": {},
   "outputs": [
    {
     "data": {
      "text/html": [
       "<div>\n",
       "<style scoped>\n",
       "    .dataframe tbody tr th:only-of-type {\n",
       "        vertical-align: middle;\n",
       "    }\n",
       "\n",
       "    .dataframe tbody tr th {\n",
       "        vertical-align: top;\n",
       "    }\n",
       "\n",
       "    .dataframe thead th {\n",
       "        text-align: right;\n",
       "    }\n",
       "</style>\n",
       "<table border=\"1\" class=\"dataframe\">\n",
       "  <thead>\n",
       "    <tr style=\"text-align: right;\">\n",
       "      <th></th>\n",
       "      <th>Item ID</th>\n",
       "      <th>Item Name</th>\n",
       "      <th>Item Price</th>\n",
       "      <th>Purchase Count</th>\n",
       "      <th>Total Purchase Value</th>\n",
       "    </tr>\n",
       "  </thead>\n",
       "  <tbody>\n",
       "    <tr>\n",
       "      <th>92</th>\n",
       "      <td>39</td>\n",
       "      <td>Betrayal, Whisper of Grieving Widows</td>\n",
       "      <td>3.94</td>\n",
       "      <td>13.0</td>\n",
       "      <td>51.22</td>\n",
       "    </tr>\n",
       "    <tr>\n",
       "      <th>178</th>\n",
       "      <td>57</td>\n",
       "      <td>Despair, Favor of Due Diligence</td>\n",
       "      <td>4.60</td>\n",
       "      <td>12.0</td>\n",
       "      <td>55.20</td>\n",
       "    </tr>\n",
       "    <tr>\n",
       "      <th>145</th>\n",
       "      <td>46</td>\n",
       "      <td>Hopeless Ebon Dualblade</td>\n",
       "      <td>1.33</td>\n",
       "      <td>9.0</td>\n",
       "      <td>11.97</td>\n",
       "    </tr>\n",
       "    <tr>\n",
       "      <th>132</th>\n",
       "      <td>145</td>\n",
       "      <td>Fiery Glass Crusader</td>\n",
       "      <td>4.58</td>\n",
       "      <td>9.0</td>\n",
       "      <td>41.22</td>\n",
       "    </tr>\n",
       "    <tr>\n",
       "      <th>108</th>\n",
       "      <td>85</td>\n",
       "      <td>Malificent Bag</td>\n",
       "      <td>1.75</td>\n",
       "      <td>9.0</td>\n",
       "      <td>15.75</td>\n",
       "    </tr>\n",
       "  </tbody>\n",
       "</table>\n",
       "</div>"
      ],
      "text/plain": [
       "     Item ID                             Item Name  Item Price  \\\n",
       "92        39  Betrayal, Whisper of Grieving Widows        3.94   \n",
       "178       57       Despair, Favor of Due Diligence        4.60   \n",
       "145       46               Hopeless Ebon Dualblade        1.33   \n",
       "132      145                  Fiery Glass Crusader        4.58   \n",
       "108       85                        Malificent Bag        1.75   \n",
       "\n",
       "     Purchase Count  Total Purchase Value  \n",
       "92             13.0                 51.22  \n",
       "178            12.0                 55.20  \n",
       "145             9.0                 11.97  \n",
       "132             9.0                 41.22  \n",
       "108             9.0                 15.75  "
      ]
     },
     "execution_count": 94,
     "metadata": {},
     "output_type": "execute_result"
    }
   ],
   "source": [
    "purchasecountbyitem = purchase_data[\"Item ID\"].value_counts() \n",
    "condenseditems = purchase_data[[\"Item ID\",\"Item Name\", \"Price\"]]\n",
    "condenseditems = condenseditems.rename(columns={\"Price\": \"Item Price\"})\n",
    "condenseditems[\"Purchase Count\"] = purchasecountbyitem\n",
    "condenseditems[\"Total Purchase Value\"] = condenseditems[\"Item Price\"] * purchasecountbyitem\n",
    "groupedbyitem = condenseditems.sort_values([\"Purchase Count\"], ascending=False).groupby([\"Item Name\", \"Item ID\"]).head(5)\n",
    "groupedbyitem.head(5)"
   ]
  },
  {
   "cell_type": "code",
   "execution_count": null,
   "metadata": {},
   "outputs": [],
   "source": []
  },
  {
   "cell_type": "markdown",
   "metadata": {},
   "source": [
    "## Most Profitable Items"
   ]
  },
  {
   "cell_type": "markdown",
   "metadata": {},
   "source": [
    "* Sort the above table by total purchase value in descending order\n",
    "\n",
    "\n",
    "* Optional: give the displayed data cleaner formatting\n",
    "\n",
    "\n",
    "* Display a preview of the data frame\n",
    "\n"
   ]
  },
  {
   "cell_type": "code",
   "execution_count": 95,
   "metadata": {
    "scrolled": true
   },
   "outputs": [
    {
     "data": {
      "text/html": [
       "<div>\n",
       "<style scoped>\n",
       "    .dataframe tbody tr th:only-of-type {\n",
       "        vertical-align: middle;\n",
       "    }\n",
       "\n",
       "    .dataframe tbody tr th {\n",
       "        vertical-align: top;\n",
       "    }\n",
       "\n",
       "    .dataframe thead th {\n",
       "        text-align: right;\n",
       "    }\n",
       "</style>\n",
       "<table border=\"1\" class=\"dataframe\">\n",
       "  <thead>\n",
       "    <tr style=\"text-align: right;\">\n",
       "      <th></th>\n",
       "      <th>Item ID</th>\n",
       "      <th>Item Name</th>\n",
       "      <th>Item Price</th>\n",
       "      <th>Purchase Count</th>\n",
       "      <th>Total Purchase Value</th>\n",
       "    </tr>\n",
       "  </thead>\n",
       "  <tbody>\n",
       "    <tr>\n",
       "      <th>178</th>\n",
       "      <td>57</td>\n",
       "      <td>Despair, Favor of Due Diligence</td>\n",
       "      <td>4.60</td>\n",
       "      <td>12.0</td>\n",
       "      <td>55.20</td>\n",
       "    </tr>\n",
       "    <tr>\n",
       "      <th>92</th>\n",
       "      <td>39</td>\n",
       "      <td>Betrayal, Whisper of Grieving Widows</td>\n",
       "      <td>3.94</td>\n",
       "      <td>13.0</td>\n",
       "      <td>51.22</td>\n",
       "    </tr>\n",
       "    <tr>\n",
       "      <th>132</th>\n",
       "      <td>145</td>\n",
       "      <td>Fiery Glass Crusader</td>\n",
       "      <td>4.58</td>\n",
       "      <td>9.0</td>\n",
       "      <td>41.22</td>\n",
       "    </tr>\n",
       "    <tr>\n",
       "      <th>82</th>\n",
       "      <td>160</td>\n",
       "      <td>Azurewrath</td>\n",
       "      <td>4.40</td>\n",
       "      <td>9.0</td>\n",
       "      <td>39.60</td>\n",
       "    </tr>\n",
       "    <tr>\n",
       "      <th>19</th>\n",
       "      <td>89</td>\n",
       "      <td>Blazefury, Protector of Delusions</td>\n",
       "      <td>4.64</td>\n",
       "      <td>8.0</td>\n",
       "      <td>37.12</td>\n",
       "    </tr>\n",
       "  </tbody>\n",
       "</table>\n",
       "</div>"
      ],
      "text/plain": [
       "     Item ID                             Item Name  Item Price  \\\n",
       "178       57       Despair, Favor of Due Diligence        4.60   \n",
       "92        39  Betrayal, Whisper of Grieving Widows        3.94   \n",
       "132      145                  Fiery Glass Crusader        4.58   \n",
       "82       160                            Azurewrath        4.40   \n",
       "19        89     Blazefury, Protector of Delusions        4.64   \n",
       "\n",
       "     Purchase Count  Total Purchase Value  \n",
       "178            12.0                 55.20  \n",
       "92             13.0                 51.22  \n",
       "132             9.0                 41.22  \n",
       "82              9.0                 39.60  \n",
       "19              8.0                 37.12  "
      ]
     },
     "execution_count": 95,
     "metadata": {},
     "output_type": "execute_result"
    }
   ],
   "source": [
    "groupbyitem2 = condenseditems.sort_values([\"Total Purchase Value\"], ascending=False).groupby([\"Item Name\", \"Item ID\"]).head(5)\n",
    "groupbyitem2.head(5)"
   ]
  },
  {
   "cell_type": "markdown",
   "metadata": {},
   "source": [
    "Report:\n",
    "\n",
    "There are a few observable trends in the data. The most glaring are male players are most likely to make an in game purchase, but this can be skewed as they account for 84% of the player base. Players in the 20-24 age bracket account for the most purchases, which interestingly overlaps almost to the number of their percentage make up of the player base (44.79% of players are aged 20-24 and 46.8% of all purchases were made by players in the 20-24 age range). The bulk of purchasing in the 20-24 age range is so heavily weighed that even if we combined all of the purchases made by players 10-19 and 25-34, the 20-24 age bracket will still have spent more ($1114.06 (20 to 24) vs $1002.67 (10 to 14 + 15 to 19 + 25 to 29 + 30 to 34)). In short, we can generate the most revenue in game by catering towards our core demographic of male players aged between 20 and 24, with our most profitable items being weapons available in the $4-5 range, we should look to capitalize and offer incentives on purchasing these weapons for players in or around this age range."
   ]
  },
  {
   "cell_type": "code",
   "execution_count": null,
   "metadata": {},
   "outputs": [],
   "source": []
  },
  {
   "cell_type": "code",
   "execution_count": null,
   "metadata": {},
   "outputs": [],
   "source": []
  }
 ],
 "metadata": {
  "anaconda-cloud": {},
  "kernel_info": {
   "name": "python3"
  },
  "kernelspec": {
   "display_name": "Python 3",
   "language": "python",
   "name": "python3"
  },
  "language_info": {
   "codemirror_mode": {
    "name": "ipython",
    "version": 3
   },
   "file_extension": ".py",
   "mimetype": "text/x-python",
   "name": "python",
   "nbconvert_exporter": "python",
   "pygments_lexer": "ipython3",
   "version": "3.8.3"
  },
  "latex_envs": {
   "LaTeX_envs_menu_present": true,
   "autoclose": false,
   "autocomplete": true,
   "bibliofile": "biblio.bib",
   "cite_by": "apalike",
   "current_citInitial": 1,
   "eqLabelWithNumbers": true,
   "eqNumInitial": 1,
   "hotkeys": {
    "equation": "Ctrl-E",
    "itemize": "Ctrl-I"
   },
   "labels_anchors": false,
   "latex_user_defs": false,
   "report_style_numbering": false,
   "user_envs_cfg": false
  },
  "nteract": {
   "version": "0.2.0"
  }
 },
 "nbformat": 4,
 "nbformat_minor": 2
}
